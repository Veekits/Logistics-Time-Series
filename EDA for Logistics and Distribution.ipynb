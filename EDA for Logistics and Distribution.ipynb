{
 "cells": [
  {
   "cell_type": "code",
   "execution_count": 64,
   "id": "7352f76b",
   "metadata": {},
   "outputs": [],
   "source": [
    "import pandas as pd\n",
    "import numpy as np\n",
    "import matplotlib.pyplot as plt\n",
    "import seaborn as sns\n",
    "import warnings\n",
    "warnings.filterwarnings(\"ignore\")"
   ]
  },
  {
   "cell_type": "code",
   "execution_count": 65,
   "id": "ab1141bf",
   "metadata": {},
   "outputs": [
    {
     "data": {
      "text/html": [
       "<div>\n",
       "<style scoped>\n",
       "    .dataframe tbody tr th:only-of-type {\n",
       "        vertical-align: middle;\n",
       "    }\n",
       "\n",
       "    .dataframe tbody tr th {\n",
       "        vertical-align: top;\n",
       "    }\n",
       "\n",
       "    .dataframe thead th {\n",
       "        text-align: right;\n",
       "    }\n",
       "</style>\n",
       "<table border=\"1\" class=\"dataframe\">\n",
       "  <thead>\n",
       "    <tr style=\"text-align: right;\">\n",
       "      <th></th>\n",
       "      <th>Agrodealer_id</th>\n",
       "      <th>Date</th>\n",
       "      <th>Agrodealer Referrals</th>\n",
       "      <th>County</th>\n",
       "      <th>Ward</th>\n",
       "    </tr>\n",
       "  </thead>\n",
       "  <tbody>\n",
       "    <tr>\n",
       "      <th>0</th>\n",
       "      <td>473</td>\n",
       "      <td>2021-03-08</td>\n",
       "      <td>0</td>\n",
       "      <td>Siaya</td>\n",
       "      <td>Ukwala</td>\n",
       "    </tr>\n",
       "    <tr>\n",
       "      <th>1</th>\n",
       "      <td>473</td>\n",
       "      <td>2021-03-09</td>\n",
       "      <td>0</td>\n",
       "      <td>Siaya</td>\n",
       "      <td>Ukwala</td>\n",
       "    </tr>\n",
       "    <tr>\n",
       "      <th>2</th>\n",
       "      <td>473</td>\n",
       "      <td>2021-03-10</td>\n",
       "      <td>0</td>\n",
       "      <td>Siaya</td>\n",
       "      <td>Ukwala</td>\n",
       "    </tr>\n",
       "    <tr>\n",
       "      <th>3</th>\n",
       "      <td>473</td>\n",
       "      <td>2021-03-11</td>\n",
       "      <td>1</td>\n",
       "      <td>Siaya</td>\n",
       "      <td>Ukwala</td>\n",
       "    </tr>\n",
       "    <tr>\n",
       "      <th>4</th>\n",
       "      <td>473</td>\n",
       "      <td>2021-03-12</td>\n",
       "      <td>0</td>\n",
       "      <td>Siaya</td>\n",
       "      <td>Ukwala</td>\n",
       "    </tr>\n",
       "  </tbody>\n",
       "</table>\n",
       "</div>"
      ],
      "text/plain": [
       "   Agrodealer_id       Date  Agrodealer Referrals County    Ward\n",
       "0            473 2021-03-08                     0  Siaya  Ukwala\n",
       "1            473 2021-03-09                     0  Siaya  Ukwala\n",
       "2            473 2021-03-10                     0  Siaya  Ukwala\n",
       "3            473 2021-03-11                     1  Siaya  Ukwala\n",
       "4            473 2021-03-12                     0  Siaya  Ukwala"
      ]
     },
     "execution_count": 65,
     "metadata": {},
     "output_type": "execute_result"
    }
   ],
   "source": [
    "#load and read data\n",
    "agrodata = pd.read_excel('Copy of Logistics Role Test Data.xlsx')\n",
    "agrodata.head()"
   ]
  },
  {
   "cell_type": "code",
   "execution_count": 66,
   "id": "13d48372",
   "metadata": {},
   "outputs": [
    {
     "data": {
      "text/html": [
       "<div>\n",
       "<style scoped>\n",
       "    .dataframe tbody tr th:only-of-type {\n",
       "        vertical-align: middle;\n",
       "    }\n",
       "\n",
       "    .dataframe tbody tr th {\n",
       "        vertical-align: top;\n",
       "    }\n",
       "\n",
       "    .dataframe thead th {\n",
       "        text-align: right;\n",
       "    }\n",
       "</style>\n",
       "<table border=\"1\" class=\"dataframe\">\n",
       "  <thead>\n",
       "    <tr style=\"text-align: right;\">\n",
       "      <th></th>\n",
       "      <th>Agrodealer_id</th>\n",
       "      <th>Agrodealer Referrals</th>\n",
       "      <th>County</th>\n",
       "      <th>Ward</th>\n",
       "    </tr>\n",
       "    <tr>\n",
       "      <th>Date</th>\n",
       "      <th></th>\n",
       "      <th></th>\n",
       "      <th></th>\n",
       "      <th></th>\n",
       "    </tr>\n",
       "  </thead>\n",
       "  <tbody>\n",
       "    <tr>\n",
       "      <th>2021-03-08</th>\n",
       "      <td>473</td>\n",
       "      <td>0</td>\n",
       "      <td>Siaya</td>\n",
       "      <td>Ukwala</td>\n",
       "    </tr>\n",
       "    <tr>\n",
       "      <th>2021-03-09</th>\n",
       "      <td>473</td>\n",
       "      <td>0</td>\n",
       "      <td>Siaya</td>\n",
       "      <td>Ukwala</td>\n",
       "    </tr>\n",
       "    <tr>\n",
       "      <th>2021-03-10</th>\n",
       "      <td>473</td>\n",
       "      <td>0</td>\n",
       "      <td>Siaya</td>\n",
       "      <td>Ukwala</td>\n",
       "    </tr>\n",
       "    <tr>\n",
       "      <th>2021-03-11</th>\n",
       "      <td>473</td>\n",
       "      <td>1</td>\n",
       "      <td>Siaya</td>\n",
       "      <td>Ukwala</td>\n",
       "    </tr>\n",
       "    <tr>\n",
       "      <th>2021-03-12</th>\n",
       "      <td>473</td>\n",
       "      <td>0</td>\n",
       "      <td>Siaya</td>\n",
       "      <td>Ukwala</td>\n",
       "    </tr>\n",
       "  </tbody>\n",
       "</table>\n",
       "</div>"
      ],
      "text/plain": [
       "            Agrodealer_id  Agrodealer Referrals County    Ward\n",
       "Date                                                          \n",
       "2021-03-08            473                     0  Siaya  Ukwala\n",
       "2021-03-09            473                     0  Siaya  Ukwala\n",
       "2021-03-10            473                     0  Siaya  Ukwala\n",
       "2021-03-11            473                     1  Siaya  Ukwala\n",
       "2021-03-12            473                     0  Siaya  Ukwala"
      ]
     },
     "execution_count": 66,
     "metadata": {},
     "output_type": "execute_result"
    }
   ],
   "source": [
    "#set Date as index\n",
    "agrodata.set_index('Date', inplace = True)\n",
    "agrodata.head()"
   ]
  },
  {
   "cell_type": "markdown",
   "id": "50fa2faf",
   "metadata": {},
   "source": [
    "# QUESTION 1: TOP 10 DEALERS"
   ]
  },
  {
   "cell_type": "code",
   "execution_count": 67,
   "id": "758c9845",
   "metadata": {},
   "outputs": [
    {
     "data": {
      "text/html": [
       "<div>\n",
       "<style scoped>\n",
       "    .dataframe tbody tr th:only-of-type {\n",
       "        vertical-align: middle;\n",
       "    }\n",
       "\n",
       "    .dataframe tbody tr th {\n",
       "        vertical-align: top;\n",
       "    }\n",
       "\n",
       "    .dataframe thead th {\n",
       "        text-align: right;\n",
       "    }\n",
       "</style>\n",
       "<table border=\"1\" class=\"dataframe\">\n",
       "  <thead>\n",
       "    <tr style=\"text-align: right;\">\n",
       "      <th></th>\n",
       "      <th>Agrodealer_id</th>\n",
       "      <th>Agrodealer Referrals</th>\n",
       "    </tr>\n",
       "  </thead>\n",
       "  <tbody>\n",
       "    <tr>\n",
       "      <th>0</th>\n",
       "      <td>473</td>\n",
       "      <td>89</td>\n",
       "    </tr>\n",
       "    <tr>\n",
       "      <th>1</th>\n",
       "      <td>488</td>\n",
       "      <td>145</td>\n",
       "    </tr>\n",
       "    <tr>\n",
       "      <th>2</th>\n",
       "      <td>503</td>\n",
       "      <td>167</td>\n",
       "    </tr>\n",
       "    <tr>\n",
       "      <th>3</th>\n",
       "      <td>518</td>\n",
       "      <td>205</td>\n",
       "    </tr>\n",
       "    <tr>\n",
       "      <th>4</th>\n",
       "      <td>533</td>\n",
       "      <td>81</td>\n",
       "    </tr>\n",
       "    <tr>\n",
       "      <th>5</th>\n",
       "      <td>548</td>\n",
       "      <td>146</td>\n",
       "    </tr>\n",
       "    <tr>\n",
       "      <th>6</th>\n",
       "      <td>563</td>\n",
       "      <td>148</td>\n",
       "    </tr>\n",
       "    <tr>\n",
       "      <th>7</th>\n",
       "      <td>578</td>\n",
       "      <td>201</td>\n",
       "    </tr>\n",
       "    <tr>\n",
       "      <th>8</th>\n",
       "      <td>593</td>\n",
       "      <td>81</td>\n",
       "    </tr>\n",
       "    <tr>\n",
       "      <th>9</th>\n",
       "      <td>608</td>\n",
       "      <td>140</td>\n",
       "    </tr>\n",
       "  </tbody>\n",
       "</table>\n",
       "</div>"
      ],
      "text/plain": [
       "   Agrodealer_id  Agrodealer Referrals\n",
       "0            473                    89\n",
       "1            488                   145\n",
       "2            503                   167\n",
       "3            518                   205\n",
       "4            533                    81\n",
       "5            548                   146\n",
       "6            563                   148\n",
       "7            578                   201\n",
       "8            593                    81\n",
       "9            608                   140"
      ]
     },
     "execution_count": 67,
     "metadata": {},
     "output_type": "execute_result"
    }
   ],
   "source": [
    "# Aggregate the data using aggrodealer_id and sum the referrals\n",
    "top_10_dealers = agrodata.groupby('Agrodealer_id')['Agrodealer Referrals'].sum().reset_index()\n",
    "top_10_dealers.set_index('Agrodealer_id', inplace = False)\n",
    "top_10_dealers.head(10)"
   ]
  },
  {
   "cell_type": "code",
   "execution_count": 68,
   "id": "cf910fdf",
   "metadata": {},
   "outputs": [
    {
     "data": {
      "text/html": [
       "<div>\n",
       "<style scoped>\n",
       "    .dataframe tbody tr th:only-of-type {\n",
       "        vertical-align: middle;\n",
       "    }\n",
       "\n",
       "    .dataframe tbody tr th {\n",
       "        vertical-align: top;\n",
       "    }\n",
       "\n",
       "    .dataframe thead th {\n",
       "        text-align: right;\n",
       "    }\n",
       "</style>\n",
       "<table border=\"1\" class=\"dataframe\">\n",
       "  <thead>\n",
       "    <tr style=\"text-align: right;\">\n",
       "      <th></th>\n",
       "      <th>Agrodealer_id</th>\n",
       "      <th>Agrodealer Referrals</th>\n",
       "    </tr>\n",
       "  </thead>\n",
       "  <tbody>\n",
       "    <tr>\n",
       "      <th>15</th>\n",
       "      <td>698</td>\n",
       "      <td>267</td>\n",
       "    </tr>\n",
       "    <tr>\n",
       "      <th>19</th>\n",
       "      <td>758</td>\n",
       "      <td>253</td>\n",
       "    </tr>\n",
       "    <tr>\n",
       "      <th>11</th>\n",
       "      <td>638</td>\n",
       "      <td>231</td>\n",
       "    </tr>\n",
       "    <tr>\n",
       "      <th>3</th>\n",
       "      <td>518</td>\n",
       "      <td>205</td>\n",
       "    </tr>\n",
       "    <tr>\n",
       "      <th>7</th>\n",
       "      <td>578</td>\n",
       "      <td>201</td>\n",
       "    </tr>\n",
       "    <tr>\n",
       "      <th>10</th>\n",
       "      <td>623</td>\n",
       "      <td>174</td>\n",
       "    </tr>\n",
       "    <tr>\n",
       "      <th>2</th>\n",
       "      <td>503</td>\n",
       "      <td>167</td>\n",
       "    </tr>\n",
       "    <tr>\n",
       "      <th>13</th>\n",
       "      <td>668</td>\n",
       "      <td>164</td>\n",
       "    </tr>\n",
       "    <tr>\n",
       "      <th>14</th>\n",
       "      <td>683</td>\n",
       "      <td>164</td>\n",
       "    </tr>\n",
       "    <tr>\n",
       "      <th>17</th>\n",
       "      <td>728</td>\n",
       "      <td>155</td>\n",
       "    </tr>\n",
       "  </tbody>\n",
       "</table>\n",
       "</div>"
      ],
      "text/plain": [
       "    Agrodealer_id  Agrodealer Referrals\n",
       "15            698                   267\n",
       "19            758                   253\n",
       "11            638                   231\n",
       "3             518                   205\n",
       "7             578                   201\n",
       "10            623                   174\n",
       "2             503                   167\n",
       "13            668                   164\n",
       "14            683                   164\n",
       "17            728                   155"
      ]
     },
     "execution_count": 68,
     "metadata": {},
     "output_type": "execute_result"
    }
   ],
   "source": [
    "#Arrange the data to get the top 10 dealers\n",
    "top_10_dealers_sorted = top_10_dealers.sort_values(by='Agrodealer Referrals', ascending = False)\n",
    "A = top_10_dealers_sorted.head(10)\n",
    "A"
   ]
  },
  {
   "cell_type": "code",
   "execution_count": 104,
   "id": "8b0a335a",
   "metadata": {},
   "outputs": [
    {
     "data": {
      "image/png": "[encoded data removed]",
      "text/plain": [
       "<Figure size 800x400 with 1 Axes>"
      ]
     },
     "metadata": {},
     "output_type": "display_data"
    }
   ],
   "source": [
    "#Plot a bar graph for the top 10 dealers\n",
    "A['Agrodealer_id'] = A['Agrodealer_id'].astype(str)\n",
    "plt.figure(figsize = (8, 4))\n",
    "plt.bar(A['Agrodealer_id'], A['Agrodealer Referrals'], color='indigo')\n",
    "\n",
    "plt.xlabel('Agrodealer_id')\n",
    "plt.ylabel('Agrodealer Referrals')\n",
    "plt.title('Top 10 Dealers')\n",
    "\n",
    "plt.grid(axis='y', linestyle='--', alpha=0.7)\n",
    "\n",
    "plt.show() "
   ]
  },
  {
   "cell_type": "code",
   "execution_count": 70,
   "id": "45eef2e5",
   "metadata": {},
   "outputs": [
    {
     "name": "stdout",
     "output_type": "stream",
     "text": [
      "Index(['Agrodealer_id', 'Agrodealer Referrals', 'County', 'Ward'], dtype='object')\n"
     ]
    }
   ],
   "source": [
    "print(agrodata.columns)"
   ]
  },
  {
   "cell_type": "code",
   "execution_count": 71,
   "id": "b1e93339",
   "metadata": {},
   "outputs": [
    {
     "name": "stdout",
     "output_type": "stream",
     "text": [
      "DatetimeIndex(['2021-03-08', '2021-03-09', '2021-03-10', '2021-03-11',\n",
      "               '2021-03-12', '2021-03-13', '2021-03-14', '2021-03-15',\n",
      "               '2021-03-16', '2021-03-17',\n",
      "               ...\n",
      "               '2021-06-04', '2021-06-05', '2021-06-06', '2021-06-07',\n",
      "               '2021-06-08', '2021-06-09', '2021-06-10', '2021-06-11',\n",
      "               '2021-06-12', '2021-06-13'],\n",
      "              dtype='datetime64[ns]', name='Date', length=2058, freq=None)\n"
     ]
    }
   ],
   "source": [
    "print(agrodata.index)"
   ]
  },
  {
   "cell_type": "code",
   "execution_count": 72,
   "id": "c014cbfe",
   "metadata": {},
   "outputs": [
    {
     "data": {
      "text/html": [
       "<div>\n",
       "<style scoped>\n",
       "    .dataframe tbody tr th:only-of-type {\n",
       "        vertical-align: middle;\n",
       "    }\n",
       "\n",
       "    .dataframe tbody tr th {\n",
       "        vertical-align: top;\n",
       "    }\n",
       "\n",
       "    .dataframe thead th {\n",
       "        text-align: right;\n",
       "    }\n",
       "</style>\n",
       "<table border=\"1\" class=\"dataframe\">\n",
       "  <thead>\n",
       "    <tr style=\"text-align: right;\">\n",
       "      <th></th>\n",
       "      <th>Date</th>\n",
       "      <th>Agrodealer_id</th>\n",
       "      <th>Agrodealer Referrals</th>\n",
       "      <th>County</th>\n",
       "      <th>Ward</th>\n",
       "    </tr>\n",
       "  </thead>\n",
       "  <tbody>\n",
       "    <tr>\n",
       "      <th>0</th>\n",
       "      <td>2021-03-08</td>\n",
       "      <td>473</td>\n",
       "      <td>0</td>\n",
       "      <td>Siaya</td>\n",
       "      <td>Ukwala</td>\n",
       "    </tr>\n",
       "    <tr>\n",
       "      <th>1</th>\n",
       "      <td>2021-03-09</td>\n",
       "      <td>473</td>\n",
       "      <td>0</td>\n",
       "      <td>Siaya</td>\n",
       "      <td>Ukwala</td>\n",
       "    </tr>\n",
       "    <tr>\n",
       "      <th>2</th>\n",
       "      <td>2021-03-10</td>\n",
       "      <td>473</td>\n",
       "      <td>0</td>\n",
       "      <td>Siaya</td>\n",
       "      <td>Ukwala</td>\n",
       "    </tr>\n",
       "    <tr>\n",
       "      <th>3</th>\n",
       "      <td>2021-03-11</td>\n",
       "      <td>473</td>\n",
       "      <td>1</td>\n",
       "      <td>Siaya</td>\n",
       "      <td>Ukwala</td>\n",
       "    </tr>\n",
       "    <tr>\n",
       "      <th>4</th>\n",
       "      <td>2021-03-12</td>\n",
       "      <td>473</td>\n",
       "      <td>0</td>\n",
       "      <td>Siaya</td>\n",
       "      <td>Ukwala</td>\n",
       "    </tr>\n",
       "  </tbody>\n",
       "</table>\n",
       "</div>"
      ],
      "text/plain": [
       "        Date  Agrodealer_id  Agrodealer Referrals County    Ward\n",
       "0 2021-03-08            473                     0  Siaya  Ukwala\n",
       "1 2021-03-09            473                     0  Siaya  Ukwala\n",
       "2 2021-03-10            473                     0  Siaya  Ukwala\n",
       "3 2021-03-11            473                     1  Siaya  Ukwala\n",
       "4 2021-03-12            473                     0  Siaya  Ukwala"
      ]
     },
     "execution_count": 72,
     "metadata": {},
     "output_type": "execute_result"
    }
   ],
   "source": [
    "agrodata.reset_index(inplace=True)\n",
    "agrodata.head()"
   ]
  },
  {
   "cell_type": "markdown",
   "id": "bd8f5413",
   "metadata": {},
   "source": [
    "# QUESTION 2: BEST WEEKS FOR REFERRALS"
   ]
  },
  {
   "cell_type": "code",
   "execution_count": 73,
   "id": "19f31bb2",
   "metadata": {},
   "outputs": [
    {
     "data": {
      "text/html": [
       "<div>\n",
       "<style scoped>\n",
       "    .dataframe tbody tr th:only-of-type {\n",
       "        vertical-align: middle;\n",
       "    }\n",
       "\n",
       "    .dataframe tbody tr th {\n",
       "        vertical-align: top;\n",
       "    }\n",
       "\n",
       "    .dataframe thead th {\n",
       "        text-align: right;\n",
       "    }\n",
       "</style>\n",
       "<table border=\"1\" class=\"dataframe\">\n",
       "  <thead>\n",
       "    <tr style=\"text-align: right;\">\n",
       "      <th></th>\n",
       "      <th>Date</th>\n",
       "      <th>Agrodealer_id</th>\n",
       "      <th>Agrodealer Referrals</th>\n",
       "      <th>County</th>\n",
       "      <th>Ward</th>\n",
       "      <th>Month</th>\n",
       "      <th>Week</th>\n",
       "    </tr>\n",
       "  </thead>\n",
       "  <tbody>\n",
       "    <tr>\n",
       "      <th>0</th>\n",
       "      <td>2021-03-08</td>\n",
       "      <td>473</td>\n",
       "      <td>0</td>\n",
       "      <td>Siaya</td>\n",
       "      <td>Ukwala</td>\n",
       "      <td>March</td>\n",
       "      <td>10</td>\n",
       "    </tr>\n",
       "    <tr>\n",
       "      <th>1</th>\n",
       "      <td>2021-03-09</td>\n",
       "      <td>473</td>\n",
       "      <td>0</td>\n",
       "      <td>Siaya</td>\n",
       "      <td>Ukwala</td>\n",
       "      <td>March</td>\n",
       "      <td>10</td>\n",
       "    </tr>\n",
       "    <tr>\n",
       "      <th>2</th>\n",
       "      <td>2021-03-10</td>\n",
       "      <td>473</td>\n",
       "      <td>0</td>\n",
       "      <td>Siaya</td>\n",
       "      <td>Ukwala</td>\n",
       "      <td>March</td>\n",
       "      <td>10</td>\n",
       "    </tr>\n",
       "    <tr>\n",
       "      <th>3</th>\n",
       "      <td>2021-03-11</td>\n",
       "      <td>473</td>\n",
       "      <td>1</td>\n",
       "      <td>Siaya</td>\n",
       "      <td>Ukwala</td>\n",
       "      <td>March</td>\n",
       "      <td>10</td>\n",
       "    </tr>\n",
       "    <tr>\n",
       "      <th>4</th>\n",
       "      <td>2021-03-12</td>\n",
       "      <td>473</td>\n",
       "      <td>0</td>\n",
       "      <td>Siaya</td>\n",
       "      <td>Ukwala</td>\n",
       "      <td>March</td>\n",
       "      <td>10</td>\n",
       "    </tr>\n",
       "  </tbody>\n",
       "</table>\n",
       "</div>"
      ],
      "text/plain": [
       "        Date  Agrodealer_id  Agrodealer Referrals County    Ward  Month  Week\n",
       "0 2021-03-08            473                     0  Siaya  Ukwala  March    10\n",
       "1 2021-03-09            473                     0  Siaya  Ukwala  March    10\n",
       "2 2021-03-10            473                     0  Siaya  Ukwala  March    10\n",
       "3 2021-03-11            473                     1  Siaya  Ukwala  March    10\n",
       "4 2021-03-12            473                     0  Siaya  Ukwala  March    10"
      ]
     },
     "execution_count": 73,
     "metadata": {},
     "output_type": "execute_result"
    }
   ],
   "source": [
    "#convert the days to weeks and add months\n",
    "agrodata['Date'] = pd.to_datetime(agrodata['Date'])\n",
    "agrodata['Month'] = pd.to_datetime(agrodata['Date']).dt.month_name()\n",
    "agrodata['Week'] = agrodata['Date'].dt.isocalendar().week\n",
    "agrodata.head()"
   ]
  },
  {
   "cell_type": "code",
   "execution_count": 75,
   "id": "e37a923f",
   "metadata": {},
   "outputs": [
    {
     "data": {
      "text/html": [
       "<div>\n",
       "<style scoped>\n",
       "    .dataframe tbody tr th:only-of-type {\n",
       "        vertical-align: middle;\n",
       "    }\n",
       "\n",
       "    .dataframe tbody tr th {\n",
       "        vertical-align: top;\n",
       "    }\n",
       "\n",
       "    .dataframe thead th {\n",
       "        text-align: right;\n",
       "    }\n",
       "</style>\n",
       "<table border=\"1\" class=\"dataframe\">\n",
       "  <thead>\n",
       "    <tr style=\"text-align: right;\">\n",
       "      <th></th>\n",
       "      <th>Week</th>\n",
       "      <th>Month</th>\n",
       "      <th>Agrodealer Referrals</th>\n",
       "    </tr>\n",
       "  </thead>\n",
       "  <tbody>\n",
       "    <tr>\n",
       "      <th>7</th>\n",
       "      <td>17</td>\n",
       "      <td>April</td>\n",
       "      <td>422</td>\n",
       "    </tr>\n",
       "    <tr>\n",
       "      <th>6</th>\n",
       "      <td>16</td>\n",
       "      <td>April</td>\n",
       "      <td>381</td>\n",
       "    </tr>\n",
       "    <tr>\n",
       "      <th>8</th>\n",
       "      <td>18</td>\n",
       "      <td>May</td>\n",
       "      <td>379</td>\n",
       "    </tr>\n",
       "    <tr>\n",
       "      <th>5</th>\n",
       "      <td>15</td>\n",
       "      <td>April</td>\n",
       "      <td>300</td>\n",
       "    </tr>\n",
       "    <tr>\n",
       "      <th>4</th>\n",
       "      <td>14</td>\n",
       "      <td>April</td>\n",
       "      <td>282</td>\n",
       "    </tr>\n",
       "    <tr>\n",
       "      <th>9</th>\n",
       "      <td>19</td>\n",
       "      <td>May</td>\n",
       "      <td>276</td>\n",
       "    </tr>\n",
       "    <tr>\n",
       "      <th>10</th>\n",
       "      <td>20</td>\n",
       "      <td>May</td>\n",
       "      <td>275</td>\n",
       "    </tr>\n",
       "    <tr>\n",
       "      <th>3</th>\n",
       "      <td>13</td>\n",
       "      <td>March</td>\n",
       "      <td>220</td>\n",
       "    </tr>\n",
       "    <tr>\n",
       "      <th>11</th>\n",
       "      <td>21</td>\n",
       "      <td>May</td>\n",
       "      <td>190</td>\n",
       "    </tr>\n",
       "    <tr>\n",
       "      <th>2</th>\n",
       "      <td>12</td>\n",
       "      <td>March</td>\n",
       "      <td>167</td>\n",
       "    </tr>\n",
       "  </tbody>\n",
       "</table>\n",
       "</div>"
      ],
      "text/plain": [
       "    Week  Month  Agrodealer Referrals\n",
       "7     17  April                   422\n",
       "6     16  April                   381\n",
       "8     18    May                   379\n",
       "5     15  April                   300\n",
       "4     14  April                   282\n",
       "9     19    May                   276\n",
       "10    20    May                   275\n",
       "3     13  March                   220\n",
       "11    21    May                   190\n",
       "2     12  March                   167"
      ]
     },
     "execution_count": 75,
     "metadata": {},
     "output_type": "execute_result"
    }
   ],
   "source": [
    "#Aggregate data using weeks and sort values from largest (question2)\n",
    "best_weeks = agrodata.groupby(['Week']).agg({'Month': 'first', 'Agrodealer Referrals': 'sum'}).reset_index()\n",
    "best_weeks_sorted = best_weeks.sort_values(by = 'Agrodealer Referrals', ascending = False)\n",
    "best_weeks_sorted.head(10)"
   ]
  },
  {
   "cell_type": "code",
   "execution_count": 100,
   "id": "029907ee",
   "metadata": {},
   "outputs": [
    {
     "data": {
      "image/png": "[encoded data removed]",
      "text/plain": [
       "<Figure size 640x480 with 1 Axes>"
      ]
     },
     "metadata": {},
     "output_type": "display_data"
    }
   ],
   "source": [
    "best_weeks_sorted['Week'] = best_weeks_sorted['Week'].astype(str)\n",
    "B = best_weeks_sorted.sort_values(by='Week', ascending=True)\n",
    "\n",
    "sns.lineplot(x='Week', y='Agrodealer Referrals', data=B, color='green')\n",
    "plt.xlabel('Week')\n",
    "plt.ylabel('Referrals')\n",
    "plt.title('Weekly Referrals')\n",
    "\n",
    "plt.grid(True, linestyle='--', alpha=0.7)\n",
    "\n",
    "for index, row in B.iterrows():\n",
    "    plt.text(row['Week'], row['Agrodealer Referrals'], str(row['Agrodealer Referrals']), ha='center', va='bottom')\n",
    "\n",
    "plt.show()"
   ]
  },
  {
   "cell_type": "markdown",
   "id": "6ede9a50",
   "metadata": {},
   "source": [
    "# QUESTION 3: BEST DAY OF THE WEEK"
   ]
  },
  {
   "cell_type": "code",
   "execution_count": 42,
   "id": "fbbbc1d5",
   "metadata": {},
   "outputs": [
    {
     "data": {
      "text/html": [
       "<div>\n",
       "<style scoped>\n",
       "    .dataframe tbody tr th:only-of-type {\n",
       "        vertical-align: middle;\n",
       "    }\n",
       "\n",
       "    .dataframe tbody tr th {\n",
       "        vertical-align: top;\n",
       "    }\n",
       "\n",
       "    .dataframe thead th {\n",
       "        text-align: right;\n",
       "    }\n",
       "</style>\n",
       "<table border=\"1\" class=\"dataframe\">\n",
       "  <thead>\n",
       "    <tr style=\"text-align: right;\">\n",
       "      <th></th>\n",
       "      <th>Date</th>\n",
       "      <th>Agrodealer_id</th>\n",
       "      <th>Agrodealer Referrals</th>\n",
       "      <th>County</th>\n",
       "      <th>Ward</th>\n",
       "      <th>Month</th>\n",
       "      <th>Week</th>\n",
       "      <th>Day</th>\n",
       "    </tr>\n",
       "  </thead>\n",
       "  <tbody>\n",
       "    <tr>\n",
       "      <th>0</th>\n",
       "      <td>2021-03-08</td>\n",
       "      <td>473</td>\n",
       "      <td>0</td>\n",
       "      <td>Siaya</td>\n",
       "      <td>Ukwala</td>\n",
       "      <td>March</td>\n",
       "      <td>10</td>\n",
       "      <td>Monday</td>\n",
       "    </tr>\n",
       "    <tr>\n",
       "      <th>1</th>\n",
       "      <td>2021-03-09</td>\n",
       "      <td>473</td>\n",
       "      <td>0</td>\n",
       "      <td>Siaya</td>\n",
       "      <td>Ukwala</td>\n",
       "      <td>March</td>\n",
       "      <td>10</td>\n",
       "      <td>Tuesday</td>\n",
       "    </tr>\n",
       "    <tr>\n",
       "      <th>2</th>\n",
       "      <td>2021-03-10</td>\n",
       "      <td>473</td>\n",
       "      <td>0</td>\n",
       "      <td>Siaya</td>\n",
       "      <td>Ukwala</td>\n",
       "      <td>March</td>\n",
       "      <td>10</td>\n",
       "      <td>Wednesday</td>\n",
       "    </tr>\n",
       "    <tr>\n",
       "      <th>3</th>\n",
       "      <td>2021-03-11</td>\n",
       "      <td>473</td>\n",
       "      <td>1</td>\n",
       "      <td>Siaya</td>\n",
       "      <td>Ukwala</td>\n",
       "      <td>March</td>\n",
       "      <td>10</td>\n",
       "      <td>Thursday</td>\n",
       "    </tr>\n",
       "    <tr>\n",
       "      <th>4</th>\n",
       "      <td>2021-03-12</td>\n",
       "      <td>473</td>\n",
       "      <td>0</td>\n",
       "      <td>Siaya</td>\n",
       "      <td>Ukwala</td>\n",
       "      <td>March</td>\n",
       "      <td>10</td>\n",
       "      <td>Friday</td>\n",
       "    </tr>\n",
       "  </tbody>\n",
       "</table>\n",
       "</div>"
      ],
      "text/plain": [
       "        Date  Agrodealer_id  Agrodealer Referrals County    Ward  Month  Week  \\\n",
       "0 2021-03-08            473                     0  Siaya  Ukwala  March    10   \n",
       "1 2021-03-09            473                     0  Siaya  Ukwala  March    10   \n",
       "2 2021-03-10            473                     0  Siaya  Ukwala  March    10   \n",
       "3 2021-03-11            473                     1  Siaya  Ukwala  March    10   \n",
       "4 2021-03-12            473                     0  Siaya  Ukwala  March    10   \n",
       "\n",
       "         Day  \n",
       "0     Monday  \n",
       "1    Tuesday  \n",
       "2  Wednesday  \n",
       "3   Thursday  \n",
       "4     Friday  "
      ]
     },
     "execution_count": 42,
     "metadata": {},
     "output_type": "execute_result"
    }
   ],
   "source": [
    "agrodata['Day'] = pd.to_datetime(agrodata['Date']).dt.day_name()\n",
    "agrodata.head()"
   ]
  },
  {
   "cell_type": "code",
   "execution_count": 15,
   "id": "87c845c4",
   "metadata": {},
   "outputs": [
    {
     "data": {
      "text/plain": [
       "Date                    2021-04-30 00:00:00\n",
       "Day                                  Friday\n",
       "Agrodealer Referrals                     87\n",
       "Name: 53, dtype: object"
      ]
     },
     "execution_count": 15,
     "metadata": {},
     "output_type": "execute_result"
    }
   ],
   "source": [
    "#The best day for referrals (question3)\n",
    "best_day = agrodata.groupby(['Date', 'Day'])['Agrodealer Referrals'].sum().reset_index()\n",
    "best_day_sorted = best_day.sort_values(by=['Agrodealer Referrals'], ascending=[False])\n",
    "best_day_sorted.iloc[0]"
   ]
  },
  {
   "cell_type": "markdown",
   "id": "5db1eadf",
   "metadata": {},
   "source": [
    "# QUESTION 4: TOP AGENTS CONSISTENT BY WEEK AND BY DAY"
   ]
  },
  {
   "cell_type": "code",
   "execution_count": 16,
   "id": "b7b0d74d",
   "metadata": {},
   "outputs": [
    {
     "name": "stdout",
     "output_type": "stream",
     "text": [
      "<class 'pandas.core.frame.DataFrame'>\n",
      "RangeIndex: 2058 entries, 0 to 2057\n",
      "Data columns (total 8 columns):\n",
      " #   Column                Non-Null Count  Dtype         \n",
      "---  ------                --------------  -----         \n",
      " 0   Date                  2058 non-null   datetime64[ns]\n",
      " 1   Agrodealer_id         2058 non-null   int64         \n",
      " 2   Agrodealer Referrals  2058 non-null   int64         \n",
      " 3   County                2058 non-null   object        \n",
      " 4   Ward                  2058 non-null   object        \n",
      " 5   Month                 2058 non-null   object        \n",
      " 6   Week                  2058 non-null   UInt32        \n",
      " 7   Day                   2058 non-null   object        \n",
      "dtypes: UInt32(1), datetime64[ns](1), int64(2), object(4)\n",
      "memory usage: 122.7+ KB\n"
     ]
    }
   ],
   "source": [
    "agrodata.info()"
   ]
  },
  {
   "cell_type": "code",
   "execution_count": 17,
   "id": "a5974342",
   "metadata": {},
   "outputs": [
    {
     "name": "stdout",
     "output_type": "stream",
     "text": [
      "<class 'pandas.core.frame.DataFrame'>\n",
      "Int64Index: 1392 entries, 3 to 2047\n",
      "Data columns (total 8 columns):\n",
      " #   Column                Non-Null Count  Dtype         \n",
      "---  ------                --------------  -----         \n",
      " 0   Date                  1392 non-null   datetime64[ns]\n",
      " 1   Agrodealer_id         1392 non-null   int64         \n",
      " 2   Agrodealer Referrals  1392 non-null   int64         \n",
      " 3   County                1392 non-null   object        \n",
      " 4   Ward                  1392 non-null   object        \n",
      " 5   Month                 1392 non-null   object        \n",
      " 6   Week                  1392 non-null   UInt32        \n",
      " 7   Day                   1392 non-null   object        \n",
      "dtypes: UInt32(1), datetime64[ns](1), int64(2), object(4)\n",
      "memory usage: 93.8+ KB\n"
     ]
    }
   ],
   "source": [
    "#removing values that are equal to 0\n",
    "filtered_df = agrodata[agrodata['Agrodealer Referrals'] != 0]\n",
    "filtered_df.info()"
   ]
  },
  {
   "cell_type": "code",
   "execution_count": 60,
   "id": "b8e1b705",
   "metadata": {},
   "outputs": [
    {
     "name": "stdout",
     "output_type": "stream",
     "text": [
      "    Agrodealer_id  Weeks_Worked\n",
      "10            623            14\n",
      "2             503            14\n",
      "3             518            14\n",
      "19            758            14\n",
      "5             548            14\n",
      "6             563            14\n",
      "7             578            14\n",
      "18            743            14\n",
      "9             608            14\n",
      "1             488            14\n"
     ]
    }
   ],
   "source": [
    "#counting weeks worked per dealer\n",
    "week_counts_per_agrodealer = filtered_df.groupby('Agrodealer_id')['Week'].nunique().reset_index(name='Weeks_Worked')\n",
    "top_10_weekly = week_counts_per_agrodealer.sort_values(by='Weeks_Worked', ascending=False)\n",
    "print(top_10_weekly.head(10))\n"
   ]
  },
  {
   "cell_type": "code",
   "execution_count": 61,
   "id": "7d5466d2",
   "metadata": {
    "scrolled": true
   },
   "outputs": [
    {
     "name": "stdout",
     "output_type": "stream",
     "text": [
      "    Agrodealer_id  Days_Worked\n",
      "19            758           80\n",
      "15            698           80\n",
      "11            638           75\n",
      "7             578           74\n",
      "10            623           72\n",
      "13            668           72\n",
      "14            683           72\n",
      "2             503           71\n",
      "5             548           71\n",
      "1             488           69\n"
     ]
    }
   ],
   "source": [
    "#counting days worked per dealer\n",
    "agrodealer_counts = filtered_df.groupby('Agrodealer_id')['Agrodealer Referrals'].size().reset_index(name='Days_Worked')\n",
    "top_10_daily = agrodealer_counts.sort_values(by='Days_Worked', ascending=False)\n",
    "print(top_10_daily.head(10))"
   ]
  },
  {
   "cell_type": "code",
   "execution_count": 106,
   "id": "d8dd4d7c",
   "metadata": {},
   "outputs": [
    {
     "name": "stdout",
     "output_type": "stream",
     "text": [
      "   Agrodealer_id  Days_Worked  Weeks_Worked\n",
      "0            758           80            14\n",
      "1            698           80            14\n",
      "2            638           75            14\n",
      "3            578           74            14\n",
      "4            623           72            14\n",
      "5            668           72            14\n",
      "6            683           72            14\n",
      "7            503           71            14\n",
      "8            548           71            14\n",
      "9            488           69            14\n"
     ]
    }
   ],
   "source": [
    "#merge the weeks worked with the days worked\n",
    "merged_df = top_10_daily.merge(top_10_weekly, on='Agrodealer_id', how='outer')\n",
    "print(merged_df.head(10))"
   ]
  },
  {
   "cell_type": "code",
   "execution_count": 107,
   "id": "e9836200",
   "metadata": {},
   "outputs": [
    {
     "data": {
      "text/plain": [
       "<Figure size 1200x600 with 0 Axes>"
      ]
     },
     "metadata": {},
     "output_type": "display_data"
    },
    {
     "data": {
      "image/png": "[encoded data removed]",
      "text/plain": [
       "<Figure size 640x480 with 1 Axes>"
      ]
     },
     "metadata": {},
     "output_type": "display_data"
    }
   ],
   "source": [
    "plt.figure(figsize=(12, 6))\n",
    "\n",
    "regional_data = agrodata.pivot_table(index='Ward', columns='County', values='Agrodealer Referrals', aggfunc='sum', fill_value=0)\n",
    "\n",
    "regional_data.plot(kind='bar', stacked=True, colormap='viridis')\n",
    "\n",
    "\n",
    "plt.xlabel('Ward')\n",
    "plt.ylabel('Agrodealer Referrals')\n",
    "plt.title('Agrodealer Referrals by Ward and County')\n",
    "plt.legend(title='County', loc='upper right')\n",
    "\n",
    "plt.show()"
   ]
  }
 ],
 "metadata": {
  "kernelspec": {
   "display_name": "Python 3 (ipykernel)",
   "language": "python",
   "name": "python3"
  },
  "language_info": {
   "codemirror_mode": {
    "name": "ipython",
    "version": 3
   },
   "file_extension": ".py",
   "mimetype": "text/x-python",
   "name": "python",
   "nbconvert_exporter": "python",
   "pygments_lexer": "ipython3",
   "version": "3.10.9"
  }
 },
 "nbformat": 4,
 "nbformat_minor": 5
}
